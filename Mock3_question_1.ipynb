{
  "nbformat": 4,
  "nbformat_minor": 0,
  "metadata": {
    "colab": {
      "provenance": []
    },
    "kernelspec": {
      "name": "python3",
      "display_name": "Python 3"
    },
    "language_info": {
      "name": "python"
    }
  },
  "cells": [
    {
      "cell_type": "markdown",
      "source": [
        "Implement a stack using a list in Python. Include the necessary methods such as push, pop, and isEmpty."
      ],
      "metadata": {
        "id": "ei6mfB1Mebc-"
      }
    },
    {
      "cell_type": "code",
      "source": [
        "class Node:\n",
        "\n",
        "    def __init__(self, data):\n",
        "        self.data = data\n",
        "        self.next = None\n",
        "\n",
        "\n",
        "class Stack:\n",
        "\n",
        "    # head is default NULL\n",
        "    def __init__(self):\n",
        "        self.head = None\n",
        "\n",
        "    # Checks if stack is empty\n",
        "    def isempty(self):\n",
        "        if self.head == None:\n",
        "            return True\n",
        "        else:\n",
        "            return False\n",
        "\n",
        "    def push(self, data):\n",
        "\n",
        "        if self.head == None:\n",
        "            self.head = Node(data)\n",
        "\n",
        "        else:\n",
        "            newnode = Node(data)\n",
        "            newnode.next = self.head\n",
        "            self.head = newnode\n",
        "\n",
        "    def pop(self):\n",
        "\n",
        "        if self.isempty():\n",
        "            return None\n",
        "\n",
        "        else:\n",
        "            poppednode = self.head\n",
        "            self.head = self.head.next\n",
        "            poppednode.next = None\n",
        "            return poppednode.data\n",
        "\n",
        "    def peek(self):\n",
        "\n",
        "        if self.isempty():\n",
        "            return None\n",
        "\n",
        "        else:\n",
        "            return self.head.data\n",
        "\n",
        "    def display(self):\n",
        "\n",
        "        iternode = self.head\n",
        "        if self.isempty():\n",
        "            print(\"Stack Underflow\")\n",
        "\n",
        "        else:\n",
        "\n",
        "            while(iternode != None):\n",
        "\n",
        "                print(iternode.data, end = \"\")\n",
        "                iternode = iternode.next\n",
        "                if(iternode != None):\n",
        "                    print(\" -> \", end = \"\")\n",
        "            return\n",
        "\n",
        "if __name__ == \"__main__\":\n",
        "  MyStack = Stack()\n",
        "\n",
        "  MyStack.push(11)\n",
        "  MyStack.push(22)\n",
        "  MyStack.push(33)\n",
        "  MyStack.push(44)\n",
        "\n",
        "  MyStack.display()\n",
        "\n",
        "  # Print top element of stack\n",
        "  print(\"\\nTop element is \", MyStack.peek())\n",
        "\n",
        "  MyStack.pop()\n",
        "  MyStack.pop()\n",
        "\n",
        "  MyStack.display()\n",
        "\n",
        "  print(\"\\nTop element is \", MyStack.peek())"
      ],
      "metadata": {
        "colab": {
          "base_uri": "https://localhost:8080/"
        },
        "id": "MPZCgHHIecAC",
        "outputId": "3bc607fb-3850-48c7-ac65-1b93d079f4a8"
      },
      "execution_count": 1,
      "outputs": [
        {
          "output_type": "stream",
          "name": "stdout",
          "text": [
            "44 -> 33 -> 22 -> 11\n",
            "Top element is  44\n",
            "22 -> 11\n",
            "Top element is  22\n"
          ]
        }
      ]
    }
  ]
}